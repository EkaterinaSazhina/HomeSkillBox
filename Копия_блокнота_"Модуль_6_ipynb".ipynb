{
  "nbformat": 4,
  "nbformat_minor": 0,
  "metadata": {
    "colab": {
      "provenance": [],
      "include_colab_link": true
    },
    "kernelspec": {
      "name": "python3",
      "display_name": "Python 3"
    },
    "language_info": {
      "name": "python"
    }
  },
  "cells": [
    {
      "cell_type": "markdown",
      "metadata": {
        "id": "view-in-github",
        "colab_type": "text"
      },
      "source": [
        "<a href=\"https://colab.research.google.com/github/EkaterinaSazhina/HomeSkillBox/blob/main/%D0%9A%D0%BE%D0%BF%D0%B8%D1%8F_%D0%B1%D0%BB%D0%BE%D0%BA%D0%BD%D0%BE%D1%82%D0%B0_%22%D0%9C%D0%BE%D0%B4%D1%83%D0%BB%D1%8C_6_ipynb%22.ipynb\" target=\"_parent\"><img src=\"https://colab.research.google.com/assets/colab-badge.svg\" alt=\"Open In Colab\"/></a>"
      ]
    },
    {
      "cell_type": "markdown",
      "source": [
        "## Как работать с шаблоном\n",
        "\n",
        "1. Нажмите на кнопку **«Копировать на Диск»**, чтобы создать личную копию проекта. После этого ваш персональный шаблон откроется в новом окне. Перейдите в него.\n",
        "![скриншот для колаб.png](data:image/png;base64,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)\n",
        "\n",
        "  **Важно:** без создания копии шаблона внесенные изменения не будут сохранены.\n",
        "\n",
        "2. Внимательно изучите условия задачи.\n",
        "3. Напишите решение задачи в ячейке для кода, расположенной под каждым заданием.\n",
        "\n",
        "Если у вас возникли трудности, обратитесь к инструкции [Как начать работать с Google Colab](https://docs.google.com/document/d/1tyLEuC527bLQu98GJmvlWkgELfRqoWiKT_zMEOAG8q4/edit)."
      ],
      "metadata": {
        "id": "97opcSbwqRfc"
      }
    },
    {
      "cell_type": "markdown",
      "source": [
        "## Что входит в практическую работу\n",
        "1. Кубы чисел.\n",
        "2. Слишком большие числа.\n",
        "3. Обычный день на работе.\n",
        "4. Вклады.\n",
        "5. Игра «Угадай число».\n"
      ],
      "metadata": {
        "id": "MvT2jNWNbOSc"
      }
    },
    {
      "cell_type": "markdown",
      "source": [
        "## **Задача 1. Кубы чисел**\n",
        "В один из вечеров к Васе пришёл племянник и пожаловался на сложности с уроками математики: у него никак не получалось разобраться со степенями чисел. Вася решил помочь племяннику и написать программу, которая позволит наглядно увидеть возведение чисел в третью степень.\n",
        "\n",
        "\n",
        "### **Что нужно сделать**  \n",
        "Напишите программу, которая возводит в третью степень каждое число от `1` до `N` и выводит результат на экран.\n",
        "\n",
        "**Пример**  \n",
        "```\n",
        "Введите число: 3\n",
        "1 ** 3 = 1  \n",
        "2 ** 3 = 8\n",
        "3 ** 3 = 27\n",
        "```\n",
        "\n",
        "\n",
        "#### **Что оценивается**\n",
        "- Результат вывода корректен, решение использует цикл `while`.\n",
        "- `input` содержит корректное приглашение для ввода.\n"
      ],
      "metadata": {
        "id": "5mwZmgM2TILx"
      }
    },
    {
      "cell_type": "code",
      "execution_count": 15,
      "metadata": {
        "id": "MMdsmni4R9GP",
        "colab": {
          "base_uri": "https://localhost:8080/"
        },
        "outputId": "debdeb9d-c00c-4593-90ff-853ebd3d7de7"
      },
      "outputs": [
        {
          "output_type": "stream",
          "name": "stdout",
          "text": [
            "Введите число: 5\n",
            "1 ** 3 = 1\n",
            "2 ** 3 = 8\n",
            "3 ** 3 = 27\n",
            "4 ** 3 = 64\n",
            "5 ** 3 = 125\n"
          ]
        }
      ],
      "source": [
        "# Здесь напишите код для решения задачи 1\n",
        "number = int(input('Введите число: '))\n",
        "number_cub = 1\n",
        "while number_cub <= number:\n",
        "  value_cub = number_cub ** 3\n",
        "  print(number_cub, '** 3 =',value_cub)\n",
        "  number_cub += 1\n",
        "\n",
        "\n",
        "\n"
      ]
    },
    {
      "cell_type": "markdown",
      "source": [
        "## **Задача 2. Слишком большие числа**\n",
        "\n",
        "У неудачливого бухгалтера всё опять идёт наперекосяк: ему приносят такие большие счета, что числа не помещаются на бумаге.\n",
        "\n",
        "### **Что нужно сделать**  \n",
        "Напишите программу, которая считала бы, сколько цифр во вводимом числе. Учтите, что программа должна получать только положительные числа и что число `0` имеет одну цифру.\n",
        "\n",
        "**Пример 1**  \n",
        "```\n",
        "Введите число: 58\n",
        "Кол-во цифр в числе: 2\n",
        "```\n",
        "\n",
        "**Пример 2**\n",
        "```\n",
        "Введите число: 0\n",
        "Кол-во цифр в числе: 1\n",
        "```\n",
        "\n",
        "#### **Что оценивается**\n",
        "- Результат вывода корректен, правильно подсчитано количество цифр в числе.  \n",
        "- Используется цикл `while`.\n",
        "- Решение не использует работу со строками и операции над ними.\n"
      ],
      "metadata": {
        "id": "_96OjBkXTynY"
      }
    },
    {
      "cell_type": "code",
      "source": [
        "# Здесь напишите код для решения задачи 2\n",
        "number = int(input('Введите число: '))\n",
        "count = 0\n",
        "if number == 0:\n",
        "  print('Кол-во цифр в числе:',1)\n",
        "else:\n",
        "  while number > 0:\n",
        "    number //= 10\n",
        "    count +=1\n",
        "  print('Кол-во цифр в числе:',count)\n"
      ],
      "metadata": {
        "id": "3MVwl0JVVBLP",
        "colab": {
          "base_uri": "https://localhost:8080/"
        },
        "outputId": "70bf6dc2-88a1-4c91-add1-6266e1a1f95a"
      },
      "execution_count": 27,
      "outputs": [
        {
          "output_type": "stream",
          "name": "stdout",
          "text": [
            "Введите число: 24\n",
            "Кол-во цифр в числе: 2\n"
          ]
        }
      ]
    },
    {
      "cell_type": "markdown",
      "source": [
        "## **Задача 3. Обычный день на работе**\n",
        "\n",
        "Максим программирует целый день на работе и вечером идёт домой. Каждый час начальство кидает ему несколько задач, которые нужно решить до следующего рабочего часа. Вдобавок каждый час Максиму звонит супруга. Он знает, что если возьмёт трубку, то жена попросит зайти вечером в магазин.\n",
        "\n",
        "### **Что нужно сделать**  \n",
        "Напишите программу, в которой считается, сколько задач выполнил Максим за день (восемь часов). Если он хотя бы раз взял трубку, то в конце дополнительно выводите сообщение: `«Нужно зайти в магазин»`.  \n",
        "**Дополнительно**: сделайте так, чтобы жена не звонила Максиму, если он уже хотя бы раз ответил на звонок в течение рабочего дня.\n",
        "\n",
        "\n",
        "**Пример 1  \n",
        "(основная задача)**\n",
        "```\n",
        "Начался восьмичасовой рабочий день.\n",
        "1-й час\n",
        "Сколько задач решит Максим? 1\n",
        "Звонит жена. Взять трубку? (1 — да, 0 — нет): 0\n",
        "2-й час\n",
        "Сколько задач решит Максим? 2\n",
        "Звонит жена. Взять трубку? (1 — да, 0 — нет): 0\n",
        "3-й час\n",
        "Сколько задач решит Максим? 3\n",
        "Звонит жена. Взять трубку? (1 — да, 0 — нет): 0\n",
        "4-й час\n",
        "Сколько задач решит Максим? 4\n",
        "Звонит жена. Взять трубку? (1 — да, 0 — нет): 1\n",
        "5-й час\n",
        "Сколько задач решит Максим? 5\n",
        "Звонит жена. Взять трубку? (1 — да, 0 — нет): 0\n",
        "6-й час\n",
        "Сколько задач решит Максим? 1\n",
        "Звонит жена. Взять трубку? (1 — да, 0 — нет): 0\n",
        "7-й час\n",
        "Сколько задач решит Максим? 2\n",
        "Звонит жена. Взять трубку? (1 — да, 0 — нет): 1\n",
        "8-й час\n",
        "Сколько задач решит Максим? 3\n",
        "Звонит жена. Взять трубку? (1 — да, 0 — нет): 0\n",
        "Рабочий день закончился. Всего выполнено задач: 21\n",
        "Нужно зайти в магазин.\n",
        "```\n",
        "\n",
        "\n",
        "\n",
        "**Пример 2  \n",
        "(с дополнительным условием)**\n",
        "```\n",
        "Начался восьмичасовой рабочий день.\n",
        "1-й час\n",
        "Сколько задач решит Максим? 1\n",
        "Звонит жена. Взять трубку? (1 — да, 0 — нет): 0\n",
        "2-й час\n",
        "Сколько задач решит Максим? 2\n",
        "Звонит жена. Взять трубку? (1 — да, 0 — нет): 1\n",
        "3-й час\n",
        "Сколько задач решит Максим? 1\n",
        "4-й час\n",
        "Сколько задач решит Максим? 2\n",
        "5-й час\n",
        "Сколько задач решит Максим? 3\n",
        "6-й час\n",
        "Сколько задач решит Максим? 4\n",
        "7-й час\n",
        "Сколько задач решит Максим? 1\n",
        "8-й час\n",
        "Сколько задач решит Максим? 1\n",
        "Рабочий день закончился. Всего выполнено задач: 15\n",
        "Нужно зайти в магазин.\n",
        "```\n",
        "\n",
        "#### **Что оценивается**\n",
        "- Формат вывода соответствует примеру.\n",
        "- Число итераций не превосходит число рабочих часов.\n",
        "- Используется флаг для учёта факта звонка жены.\n"
      ],
      "metadata": {
        "id": "XItBBC3gVFGC"
      }
    },
    {
      "cell_type": "code",
      "source": [
        "# Здесь напишите код для решения задачи 3\n",
        "task = 0\n",
        "phone = False\n",
        "hour = 1\n",
        "while hour <= 8:\n",
        "  print(hour,'-й час')\n",
        "  task_work = int(input('Сколько задач решит Максим?'))\n",
        "  task += task_work\n",
        "  wife_phone = input('Звонит жена. Взять трубку? (1 — да, 0 — нет)')\n",
        "  if wife_phone == '1':\n",
        "    phone = True\n",
        "  hour+=1\n",
        "print('Рабочий день закончился. Всего выполнено задач:', task)\n",
        "if phone:\n",
        "  print('Нужно зайти в магазин.')"
      ],
      "metadata": {
        "id": "VXQN_aXmWT4H",
        "colab": {
          "base_uri": "https://localhost:8080/"
        },
        "outputId": "beb59c80-dbc6-4c3e-d731-ad821275f674"
      },
      "execution_count": 29,
      "outputs": [
        {
          "output_type": "stream",
          "name": "stdout",
          "text": [
            "1 -й час\n",
            "Сколько задач решит Максим?1\n",
            "Звонит жена. Взять трубку? (1 — да, 0 — нет)1\n",
            "2 -й час\n",
            "Сколько задач решит Максим?1\n",
            "Звонит жена. Взять трубку? (1 — да, 0 — нет)0\n",
            "3 -й час\n",
            "Сколько задач решит Максим?1\n",
            "Звонит жена. Взять трубку? (1 — да, 0 — нет)0\n",
            "4 -й час\n",
            "Сколько задач решит Максим?1\n",
            "Звонит жена. Взять трубку? (1 — да, 0 — нет)0\n",
            "5 -й час\n",
            "Сколько задач решит Максим?1\n",
            "Звонит жена. Взять трубку? (1 — да, 0 — нет)0\n",
            "6 -й час\n",
            "Сколько задач решит Максим?1\n",
            "Звонит жена. Взять трубку? (1 — да, 0 — нет)0\n",
            "7 -й час\n",
            "Сколько задач решит Максим?1\n",
            "Звонит жена. Взять трубку? (1 — да, 0 — нет)0\n",
            "8 -й час\n",
            "Сколько задач решит Максим?1\n",
            "Звонит жена. Взять трубку? (1 — да, 0 — нет)0\n",
            "Рабочий день закончился. Всего выполнено задач: 8\n",
            "Нужно зайти в магазин.\n"
          ]
        }
      ]
    },
    {
      "cell_type": "markdown",
      "source": [
        "## **Задача 4. Вклады**\n",
        "\n",
        "Вклад в банке составляет `X` рублей. Ежегодно он увеличивается на `P` процентов, после чего дробная часть копеек отбрасывается. Определите, через сколько лет вклад составит не менее `Y` рублей.\n",
        "\n",
        "### **Что нужно сделать**  \n",
        "Напишите программу, которая по данным числам `X`, `Y`, `P` определяет, сколько лет пройдёт, прежде чем сумма достигнет значения `Y`.\n",
        "\n",
        "**Пример**\n",
        "```\n",
        "Вклад в банке: 50\n",
        "Проценты: 5\n",
        "Порог вклада: 60\n",
        "1 год. 50 + 5% = 52\n",
        "2 год. 52 + 5% = 54\n",
        "3 год. 54 + 5% = 56\n",
        "4 год. 56 + 5% = 58\n",
        "5 год. 58 + 5% = 60\n",
        "Кол-во лет для достижения порога: 5\n",
        "```\n",
        "\n",
        "#### **Что оценивается**\n",
        "- Результат вычислений корректен.\n"
      ],
      "metadata": {
        "id": "gU4aOr_fWUSJ"
      }
    },
    {
      "cell_type": "code",
      "source": [
        "# Здесь напишите код для решения задачи 4\n",
        "x = int(input('Вклад в банке: '))\n",
        "p = int(input('Проценты: '))\n",
        "y = int(input('Порог вклада:'))\n",
        "year = 0\n",
        "while x < y:\n",
        "  year += 1\n",
        "  summ = int(x + (x / 100 * p ))\n",
        "  print(year,'год.', x,' + ',p,'% =', summ)\n",
        "  x = summ"
      ],
      "metadata": {
        "id": "BIFLE_WMXAvL",
        "colab": {
          "base_uri": "https://localhost:8080/"
        },
        "outputId": "eb509799-2b56-4075-fdd2-aed913429730"
      },
      "execution_count": 37,
      "outputs": [
        {
          "output_type": "stream",
          "name": "stdout",
          "text": [
            "Вклад в банке: 50\n",
            "Проценты: 10\n",
            "Порог вклада:60\n",
            "1 год. 50  +  10 % = 55\n",
            "2 год. 55  +  10 % = 60\n"
          ]
        }
      ]
    },
    {
      "cell_type": "markdown",
      "source": [
        "## **Задача 5. Игра «Угадай число»**\n",
        "\n",
        "Папа-программист любит придумывать для сына небольшие компьютерные игры.\n",
        "\n",
        "### **Что нужно сделать**\n",
        "Напишите программу-игру, в которой один человек загадывает число от `1` до `10`, а другой пытается его угадать. Программа должна запрашивать число у пользователя до тех пор, пока тот не угадает загаданное. После каждой попытки выводите подсказки, больше или меньше загаданного введённое число. Также после отгадки выводите количество попыток.\n",
        "\n",
        "Выводите сообщения в соответствии с примером.  \n",
        "**Пример (загадали число 7)**\n",
        "```\n",
        "Введите число: 3\n",
        "Число меньше, чем нужно. Попробуйте ещё раз!\n",
        "Введите число: 10\n",
        "Число больше, чем нужно. Попробуйте ещё раз!\n",
        "Введите число: 8\n",
        "Число больше, чем нужно. Попробуйте ещё раз!\n",
        "Введите число: 7\n",
        "Вы угадали! Число попыток: 4\n",
        "```\n",
        "#### **Что оценивается**\n",
        "- Формат вывода соответствует заданию.\n"
      ],
      "metadata": {
        "id": "8ZbXHxC0XCo-"
      }
    },
    {
      "cell_type": "code",
      "source": [
        "# Здесь напишите код для решения задачи 5\n",
        "secret_number = 7\n",
        "count = 0\n",
        "while True:\n",
        "  number = int(input('Введите число: '))\n",
        "  count+=1\n",
        "  if number > secret_number:\n",
        "    print('Число больше, чем нужно. Попробуйте ещё раз!')\n",
        "    continue\n",
        "  elif number < secret_number:\n",
        "    print('Число меньше, чем нужно. Попробуйте ещё раз!')\n",
        "    continue\n",
        "  else:\n",
        "    print('Вы угадали! Число попыток:', count)\n",
        "  break\n",
        "\n"
      ],
      "metadata": {
        "id": "DSrnWK4NXW3B",
        "colab": {
          "base_uri": "https://localhost:8080/"
        },
        "outputId": "d3950bde-6c83-4228-cd02-0a0de2289974"
      },
      "execution_count": 39,
      "outputs": [
        {
          "output_type": "stream",
          "name": "stdout",
          "text": [
            "Введите число: 3\n",
            "Число меньше, чем нужно. Попробуйте ещё раз!\n",
            "Введите число: 4\n",
            "Число меньше, чем нужно. Попробуйте ещё раз!\n",
            "Введите число: 8\n",
            "Число больше, чем нужно. Попробуйте ещё раз!\n",
            "Введите число: 6\n",
            "Число меньше, чем нужно. Попробуйте ещё раз!\n",
            "Введите число: 7\n",
            "Вы угадали! Число попыток: 5\n"
          ]
        }
      ]
    }
  ]
}